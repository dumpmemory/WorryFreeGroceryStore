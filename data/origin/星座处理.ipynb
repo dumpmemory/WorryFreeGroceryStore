{
 "cells": [
  {
   "cell_type": "markdown",
   "metadata": {},
   "source": [
    "# 星座"
   ]
  },
  {
   "cell_type": "markdown",
   "metadata": {},
   "source": [
    "## 加载库"
   ]
  },
  {
   "cell_type": "code",
   "execution_count": 39,
   "metadata": {},
   "outputs": [],
   "source": [
    "import pandas as pd \n",
    "import datetime\n",
    "from KeywordProcessor import KeywordProcessor"
   ]
  },
  {
   "cell_type": "markdown",
   "metadata": {},
   "source": [
    "## 变量"
   ]
  },
  {
   "cell_type": "code",
   "execution_count": 54,
   "metadata": {},
   "outputs": [],
   "source": [
    "commonPath  = 'data/'\n",
    "fileName = f\"{commonPath}constellation.xlsx\"\n",
    "constellationDictFileName = \"constellation\""
   ]
  },
  {
   "cell_type": "markdown",
   "metadata": {},
   "source": [
    "## 函数"
   ]
  },
  {
   "cell_type": "code",
   "execution_count": null,
   "metadata": {
    "code_folding": [
     0
    ]
   },
   "outputs": [],
   "source": [
    "# 功能：通过 年月 查询 星座\n",
    "def useDateSelectConstellation(date):\n",
    "    nowDate = datetime.datetime.strptime(date, '%m-%d')\n",
    "    for key,row in constellation2introductionDict.items():\n",
    "        if nowDate>=datetime.datetime.strptime(row['startTime'], '%m-%d') and nowDate<datetime.datetime.strptime(row['endTime'], '%m-%d'):\n",
    "            return {\"key\":key,\"val\":row}\n",
    "    return {}"
   ]
  },
  {
   "cell_type": "markdown",
   "metadata": {},
   "source": [
    "## 操作"
   ]
  },
  {
   "cell_type": "code",
   "execution_count": 27,
   "metadata": {},
   "outputs": [],
   "source": [
    "#读取excel文件\n",
    "df = pd.read_excel(io=fileName)"
   ]
  },
  {
   "cell_type": "code",
   "execution_count": 28,
   "metadata": {
    "code_folding": [
     1
    ]
   },
   "outputs": [],
   "source": [
    "constellation2introductionDict = {}\n",
    "for index,row in df.T.items():\n",
    "    tempDict = {}\n",
    "    tempDict['特点'] = row['特点']\n",
    "    tempDict['startTime'] = row['时间'].split(\"-\")[0].replace(\"月\",\"-\").replace(\"日\",\"\")\n",
    "    tempDict['endTime'] = row['时间'].split(\"-\")[1].replace(\"月\",\"-\").replace(\"日\",\"\")\n",
    "    tempDict['最大特征'] = row['最大特征']\n",
    "    tempDict['介绍'] = row['介绍']\n",
    "    constellation2introductionDict[row['星座']]=tempDict"
   ]
  },
  {
   "cell_type": "code",
   "execution_count": 29,
   "metadata": {
    "scrolled": true
   },
   "outputs": [
    {
     "data": {
      "text/plain": [
       "{'白羊座': {'特点': '热情活力',\n",
       "  'startTime': '3-21',\n",
       "  'endTime': '4-19',\n",
       "  '最大特征': '控制',\n",
       "  '介绍': '白羊座有一种让人看见就觉得开心的感觉，因为总是看起来都是那么地热情、阳光、乐观、坚强，对朋友也慷慨大方，性格直来直往，就是有点小脾气。白羊男有大男人主义的性格，而白羊女就是女汉子的形象。'},\n",
       " '金牛座': {'特点': '稳健固执',\n",
       "  'startTime': '4-20',\n",
       "  'endTime': '5-20',\n",
       "  '最大特征': '财富',\n",
       "  '介绍': '金牛座很保守，喜欢稳定，一旦有什么变动就会觉得心里不踏实，性格也比较慢热，但你是理财高手，对于投资理财都有着独特的见解。金牛男的性格有点儿自我，而金牛女就喜欢投资自己，想要过得更好。'},\n",
       " '双子座': {'特点': '花心多变',\n",
       "  'startTime': '5-21',\n",
       "  'endTime': '6-21',\n",
       "  '最大特征': '思想',\n",
       "  '介绍': '双子座喜欢追求新鲜感，有点儿小聪明，就是耐心不够，往往做事都是三分钟热度，难以坚持，但是你的可爱性格会让很多人都喜欢跟你做朋友。双子男表面很花心，其实深情，而双子女就喜欢求新和求变。'},\n",
       " '巨蟹座': {'特点': '敏感柔情',\n",
       "  'startTime': '6-22',\n",
       "  'endTime': '7-22',\n",
       "  '最大特征': '感觉',\n",
       "  '介绍': '巨蟹座的情绪容易敏感，也缺乏安全感，容易对一件事情上心，做事情有坚持到底的毅力，为人重情重义，对朋友、家人都特别忠实，巨蟹男是一等一的好男人，顾家爱家人，巨蟹女充满母性光环，非常有爱心。'},\n",
       " '狮子座': {'特点': '骄傲威严',\n",
       "  'startTime': '7-23',\n",
       "  'endTime': '8-22',\n",
       "  '最大特征': '权力',\n",
       "  '介绍': '狮子座有着宏伟的理想，总想靠自己的努力成为人上人，你向往高高在上的优越感，也期待被仰慕被崇拜的感觉，有点儿自信有点儿自大。狮子男的大男人气息很重，爱面子，狮子女热情阳光，对朋友讲义气。'},\n",
       " '处女座': {'特点': '完美理性',\n",
       "  'startTime': '8-23',\n",
       "  'endTime': '9-22',\n",
       "  '最大特征': '分析力',\n",
       "  '介绍': '处女座虽然常常被黑，但你还是依然坚持追求自己的完美主义，因为在你看来，生活不能将就，追求的完美更不能将就，有目标才有进步，当然也需要鼓励。处女男的毅力很强，能坚持，处女女的求知欲很强。'},\n",
       " '天秤座': {'特点': '公平和谐',\n",
       "  'startTime': '9-23',\n",
       "  'endTime': '10-23',\n",
       "  '最大特征': '衡量抉择',\n",
       "  '介绍': '天秤座常常追求平等、和谐，擅于察言观色，交际能力很强，因此真心朋友不少，因为你也足够真诚，但是最大的缺点就是面对选择总是犹豫不决。天秤男容易在乎自己而忽略别人，天秤女就喜欢被陪伴的感觉。'},\n",
       " '天蝎座': {'特点': '神秘敏锐',\n",
       "  'startTime': '10-24',\n",
       "  'endTime': '11-22',\n",
       "  '最大特征': '渴望',\n",
       "  '介绍': '天蝎座精力旺盛、占有欲极强，对于生活很有目标，不达到目的誓不罢休，复仇心理重，记仇会让自己不顾一切报复曾经伤害过你的人。天蝎男自我主义色彩很强烈，天蝎女的自我保护意识很强，不容易接近。'},\n",
       " '射手座': {'特点': '自由乐观',\n",
       "  'startTime': '11-23',\n",
       "  'endTime': '12-21',\n",
       "  '最大特征': '自由',\n",
       "  '介绍': '射手座崇尚自由，勇敢、果断、独立，身上有一股勇往直前的劲儿，不管有多困难，只要想，就能做，你的毅力和自信是难以击倒的。射手男酷爱自由，讨厌被束缚，射手女性格简单直接，不耍心计，可是任性。'},\n",
       " '摩羯座': {'特点': '执著现实',\n",
       "  'startTime': '12-22',\n",
       "  'endTime': '1-19',\n",
       "  '最大特征': '实际',\n",
       "  '介绍': '摩羯座是十二星座中最有耐心，为事最小心、也是最善良的星座。他们做事脚踏实地，也比较固执，不达目的是不会放手的。他们的忍耐力也是出奇的强大，同时也非常勤奋。他们心中总是背负着很多的责任感。'},\n",
       " '水瓶座': {'特点': '自由博爱',\n",
       "  'startTime': '1-20',\n",
       "  'endTime': '2-18',\n",
       "  '最大特征': '求知',\n",
       "  '介绍': '水瓶座的人很聪明，他们最大的特点是创新，追求独一无二的生活，个人主义色彩很浓重的星座。他们对人友善又注重隐私。水瓶座绝对算得上是”友谊之星“，他喜欢结交每一类朋友，但是确很难与他们交心。'},\n",
       " '双鱼座': {'特点': '浪漫梦幻',\n",
       "  'startTime': '2-19',\n",
       "  'endTime': '3-20',\n",
       "  '最大特征': '滥情',\n",
       "  '介绍': '双鱼座是十二宫最后一个星座，他集合了所有星座的优缺点于一身，同时受水象星座的情绪化影响，使他们原来复杂的性格又添加了更复杂的一笔。双鱼座的人最大的优点是有一颗善良的心，他们愿意帮助别人。'}}"
      ]
     },
     "execution_count": 29,
     "metadata": {},
     "output_type": "execute_result"
    }
   ],
   "source": [
    "constellation2introductionDict"
   ]
  },
  {
   "cell_type": "code",
   "execution_count": 48,
   "metadata": {},
   "outputs": [
    {
     "data": {
      "text/plain": [
       "{'key': '天秤座',\n",
       " 'val': {'特点': '公平和谐',\n",
       "  'startTime': '9-23',\n",
       "  'endTime': '10-23',\n",
       "  '最大特征': '衡量抉择',\n",
       "  '介绍': '天秤座常常追求平等、和谐，擅于察言观色，交际能力很强，因此真心朋友不少，因为你也足够真诚，但是最大的缺点就是面对选择总是犹豫不决。天秤男容易在乎自己而忽略别人，天秤女就喜欢被陪伴的感觉。'}}"
      ]
     },
     "execution_count": 48,
     "metadata": {},
     "output_type": "execute_result"
    }
   ],
   "source": [
    "useDateSelectConstellation(\"10-02\")"
   ]
  },
  {
   "cell_type": "code",
   "execution_count": 49,
   "metadata": {},
   "outputs": [],
   "source": [
    "zh2numDict = {\"1\":[\"一\"],\"2\":[\"二\"],\"3\":[\"三\"],\"4\":[\"四\"],\"5\":[\"五\"],\"6\":[\"六\"],\"7\":[\"七\"],\"8\":[\"八\"],\"9\":[\"九\"],\"10\":[\"十\"],\"11\":[\"十一\"],\"12\":[\"十二\"],\"13\":[\"十三\"],\"14\":[\"十四\"],\"15\":[\"十五\"],\"16\":[\"十六\"],\"17\":[\"十七\"],\"18\":[\"十八\"],\"19\":[\"十九\"],\"20\":[\"二十\"],\"21\":[\"二十一\"],\"22\":[\"二十二\"],\"23\":[\"二十三\"],\"24\":[\"二十四\"],\"25\":[\"二十五\"],\"26\":[\"二十六\"],\"27\":[\"二十七\"],\"28\":[\"二十八\"],\"29\":[\"二十九\"],\"30\":[\"三十\"],\"31\":[\"三十一\"]}"
   ]
  },
  {
   "cell_type": "code",
   "execution_count": 50,
   "metadata": {},
   "outputs": [
    {
     "data": {
      "text/plain": [
       "'3月23号'"
      ]
     },
     "execution_count": 50,
     "metadata": {},
     "output_type": "execute_result"
    }
   ],
   "source": [
    "kp = KeywordProcessor()\n",
    "kp.add_keywords_from_dict(zh2numDict)\n",
    "query = \"三月二十三号\"\n",
    "query = kp.replace_keywords(query)\n",
    "query"
   ]
  },
  {
   "cell_type": "code",
   "execution_count": 51,
   "metadata": {},
   "outputs": [],
   "source": [
    "from tools.loader import loadDict,saveDict"
   ]
  },
  {
   "cell_type": "code",
   "execution_count": 55,
   "metadata": {},
   "outputs": [
    {
     "name": "stdout",
     "output_type": "stream",
     "text": [
      "函数：saveDict() 共耗时约 0.00097 秒\n"
     ]
    }
   ],
   "source": [
    "saveDict(constellation2introductionDict,commonPath,constellationDictFileName)"
   ]
  },
  {
   "cell_type": "code",
   "execution_count": 56,
   "metadata": {},
   "outputs": [
    {
     "name": "stdout",
     "output_type": "stream",
     "text": [
      "函数：loadDict() 共耗时约 0.00100 秒\n"
     ]
    }
   ],
   "source": [
    "constellation2introductionDict = loadDict(commonPath,constellationDictFileName)"
   ]
  },
  {
   "cell_type": "code",
   "execution_count": 57,
   "metadata": {},
   "outputs": [
    {
     "data": {
      "text/plain": [
       "{'白羊座': {'特点': '热情活力',\n",
       "  'startTime': '3-21',\n",
       "  'endTime': '4-19',\n",
       "  '最大特征': '控制',\n",
       "  '介绍': '白羊座有一种让人看见就觉得开心的感觉，因为总是看起来都是那么地热情、阳光、乐观、坚强，对朋友也慷慨大方，性格直来直往，就是有点小脾气。白羊男有大男人主义的性格，而白羊女就是女汉子的形象。'},\n",
       " '金牛座': {'特点': '稳健固执',\n",
       "  'startTime': '4-20',\n",
       "  'endTime': '5-20',\n",
       "  '最大特征': '财富',\n",
       "  '介绍': '金牛座很保守，喜欢稳定，一旦有什么变动就会觉得心里不踏实，性格也比较慢热，但你是理财高手，对于投资理财都有着独特的见解。金牛男的性格有点儿自我，而金牛女就喜欢投资自己，想要过得更好。'},\n",
       " '双子座': {'特点': '花心多变',\n",
       "  'startTime': '5-21',\n",
       "  'endTime': '6-21',\n",
       "  '最大特征': '思想',\n",
       "  '介绍': '双子座喜欢追求新鲜感，有点儿小聪明，就是耐心不够，往往做事都是三分钟热度，难以坚持，但是你的可爱性格会让很多人都喜欢跟你做朋友。双子男表面很花心，其实深情，而双子女就喜欢求新和求变。'},\n",
       " '巨蟹座': {'特点': '敏感柔情',\n",
       "  'startTime': '6-22',\n",
       "  'endTime': '7-22',\n",
       "  '最大特征': '感觉',\n",
       "  '介绍': '巨蟹座的情绪容易敏感，也缺乏安全感，容易对一件事情上心，做事情有坚持到底的毅力，为人重情重义，对朋友、家人都特别忠实，巨蟹男是一等一的好男人，顾家爱家人，巨蟹女充满母性光环，非常有爱心。'},\n",
       " '狮子座': {'特点': '骄傲威严',\n",
       "  'startTime': '7-23',\n",
       "  'endTime': '8-22',\n",
       "  '最大特征': '权力',\n",
       "  '介绍': '狮子座有着宏伟的理想，总想靠自己的努力成为人上人，你向往高高在上的优越感，也期待被仰慕被崇拜的感觉，有点儿自信有点儿自大。狮子男的大男人气息很重，爱面子，狮子女热情阳光，对朋友讲义气。'},\n",
       " '处女座': {'特点': '完美理性',\n",
       "  'startTime': '8-23',\n",
       "  'endTime': '9-22',\n",
       "  '最大特征': '分析力',\n",
       "  '介绍': '处女座虽然常常被黑，但你还是依然坚持追求自己的完美主义，因为在你看来，生活不能将就，追求的完美更不能将就，有目标才有进步，当然也需要鼓励。处女男的毅力很强，能坚持，处女女的求知欲很强。'},\n",
       " '天秤座': {'特点': '公平和谐',\n",
       "  'startTime': '9-23',\n",
       "  'endTime': '10-23',\n",
       "  '最大特征': '衡量抉择',\n",
       "  '介绍': '天秤座常常追求平等、和谐，擅于察言观色，交际能力很强，因此真心朋友不少，因为你也足够真诚，但是最大的缺点就是面对选择总是犹豫不决。天秤男容易在乎自己而忽略别人，天秤女就喜欢被陪伴的感觉。'},\n",
       " '天蝎座': {'特点': '神秘敏锐',\n",
       "  'startTime': '10-24',\n",
       "  'endTime': '11-22',\n",
       "  '最大特征': '渴望',\n",
       "  '介绍': '天蝎座精力旺盛、占有欲极强，对于生活很有目标，不达到目的誓不罢休，复仇心理重，记仇会让自己不顾一切报复曾经伤害过你的人。天蝎男自我主义色彩很强烈，天蝎女的自我保护意识很强，不容易接近。'},\n",
       " '射手座': {'特点': '自由乐观',\n",
       "  'startTime': '11-23',\n",
       "  'endTime': '12-21',\n",
       "  '最大特征': '自由',\n",
       "  '介绍': '射手座崇尚自由，勇敢、果断、独立，身上有一股勇往直前的劲儿，不管有多困难，只要想，就能做，你的毅力和自信是难以击倒的。射手男酷爱自由，讨厌被束缚，射手女性格简单直接，不耍心计，可是任性。'},\n",
       " '摩羯座': {'特点': '执著现实',\n",
       "  'startTime': '12-22',\n",
       "  'endTime': '1-19',\n",
       "  '最大特征': '实际',\n",
       "  '介绍': '摩羯座是十二星座中最有耐心，为事最小心、也是最善良的星座。他们做事脚踏实地，也比较固执，不达目的是不会放手的。他们的忍耐力也是出奇的强大，同时也非常勤奋。他们心中总是背负着很多的责任感。'},\n",
       " '水瓶座': {'特点': '自由博爱',\n",
       "  'startTime': '1-20',\n",
       "  'endTime': '2-18',\n",
       "  '最大特征': '求知',\n",
       "  '介绍': '水瓶座的人很聪明，他们最大的特点是创新，追求独一无二的生活，个人主义色彩很浓重的星座。他们对人友善又注重隐私。水瓶座绝对算得上是”友谊之星“，他喜欢结交每一类朋友，但是确很难与他们交心。'},\n",
       " '双鱼座': {'特点': '浪漫梦幻',\n",
       "  'startTime': '2-19',\n",
       "  'endTime': '3-20',\n",
       "  '最大特征': '滥情',\n",
       "  '介绍': '双鱼座是十二宫最后一个星座，他集合了所有星座的优缺点于一身，同时受水象星座的情绪化影响，使他们原来复杂的性格又添加了更复杂的一笔。双鱼座的人最大的优点是有一颗善良的心，他们愿意帮助别人。'}}"
      ]
     },
     "execution_count": 57,
     "metadata": {},
     "output_type": "execute_result"
    }
   ],
   "source": [
    "constellation2introductionDict"
   ]
  },
  {
   "cell_type": "code",
   "execution_count": null,
   "metadata": {},
   "outputs": [],
   "source": []
  }
 ],
 "metadata": {
  "hide_input": false,
  "kernelspec": {
   "display_name": "Python 3",
   "language": "python",
   "name": "python3"
  },
  "language_info": {
   "codemirror_mode": {
    "name": "ipython",
    "version": 3
   },
   "file_extension": ".py",
   "mimetype": "text/x-python",
   "name": "python",
   "nbconvert_exporter": "python",
   "pygments_lexer": "ipython3",
   "version": "3.7.0"
  },
  "toc": {
   "base_numbering": 1,
   "nav_menu": {},
   "number_sections": true,
   "sideBar": true,
   "skip_h1_title": false,
   "title_cell": "Table of Contents",
   "title_sidebar": "Contents",
   "toc_cell": false,
   "toc_position": {},
   "toc_section_display": true,
   "toc_window_display": false
  }
 },
 "nbformat": 4,
 "nbformat_minor": 2
}
